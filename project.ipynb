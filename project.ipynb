{
 "cells": [
  {
   "cell_type": "code",
   "execution_count": 5,
   "id": "eae669c8-c216-4b7c-9879-939315e9eb11",
   "metadata": {},
   "outputs": [],
   "source": [
    "import pandas as pd \n"
   ]
  },
  {
   "cell_type": "code",
   "execution_count": 7,
   "id": "2249e103-df3e-4c51-8633-278dbc004b98",
   "metadata": {},
   "outputs": [],
   "source": [
    "df=pd.read_csv(\"financial_transactions.csv\")"
   ]
  },
  {
   "cell_type": "code",
   "execution_count": 9,
   "id": "f7ac4e7b-8a79-46cb-9ec1-cfb07d2828e2",
   "metadata": {},
   "outputs": [
    {
     "data": {
      "text/html": [
       "<div>\n",
       "<style scoped>\n",
       "    .dataframe tbody tr th:only-of-type {\n",
       "        vertical-align: middle;\n",
       "    }\n",
       "\n",
       "    .dataframe tbody tr th {\n",
       "        vertical-align: top;\n",
       "    }\n",
       "\n",
       "    .dataframe thead th {\n",
       "        text-align: right;\n",
       "    }\n",
       "</style>\n",
       "<table border=\"1\" class=\"dataframe\">\n",
       "  <thead>\n",
       "    <tr style=\"text-align: right;\">\n",
       "      <th></th>\n",
       "      <th>TransactionID</th>\n",
       "      <th>CustomerID</th>\n",
       "      <th>TransactionType</th>\n",
       "      <th>Amount</th>\n",
       "      <th>Date</th>\n",
       "      <th>Branch</th>\n",
       "      <th>Region</th>\n",
       "      <th>CustomerSegment</th>\n",
       "    </tr>\n",
       "  </thead>\n",
       "  <tbody>\n",
       "    <tr>\n",
       "      <th>0</th>\n",
       "      <td>TXN00001</td>\n",
       "      <td>bdd640fb-0667-4ad1-9c80-317fa3b1799d</td>\n",
       "      <td>Withdrawal</td>\n",
       "      <td>9814.32</td>\n",
       "      <td>2024-11-08</td>\n",
       "      <td>Heliopolis</td>\n",
       "      <td>Assiut</td>\n",
       "      <td>VIP</td>\n",
       "    </tr>\n",
       "    <tr>\n",
       "      <th>1</th>\n",
       "      <td>TXN00002</td>\n",
       "      <td>bc8960a9-23b8-41e9-b924-56de3eb13b90</td>\n",
       "      <td>Deposit</td>\n",
       "      <td>2179.05</td>\n",
       "      <td>2024-09-02</td>\n",
       "      <td>New Cairo</td>\n",
       "      <td>Alexandria</td>\n",
       "      <td>Regular</td>\n",
       "    </tr>\n",
       "    <tr>\n",
       "      <th>2</th>\n",
       "      <td>TXN00003</td>\n",
       "      <td>8b9d2434-e465-4150-bd9c-66b3ad3c2d6d</td>\n",
       "      <td>Withdrawal</td>\n",
       "      <td>6391.30</td>\n",
       "      <td>2024-08-27</td>\n",
       "      <td>Nasr City</td>\n",
       "      <td>Assiut</td>\n",
       "      <td>New</td>\n",
       "    </tr>\n",
       "    <tr>\n",
       "      <th>3</th>\n",
       "      <td>TXN00004</td>\n",
       "      <td>07a0ca6e-0822-48f3-ac03-1199972a8469</td>\n",
       "      <td>Withdrawal</td>\n",
       "      <td>2093.93</td>\n",
       "      <td>2024-08-30</td>\n",
       "      <td>Maadi</td>\n",
       "      <td>Giza</td>\n",
       "      <td>VIP</td>\n",
       "    </tr>\n",
       "    <tr>\n",
       "      <th>4</th>\n",
       "      <td>TXN00005</td>\n",
       "      <td>9a1de644-815e-46d1-bb8f-aa1837f8a88b</td>\n",
       "      <td>Purchase</td>\n",
       "      <td>3424.31</td>\n",
       "      <td>2024-08-04</td>\n",
       "      <td>Zamalek</td>\n",
       "      <td>Giza</td>\n",
       "      <td>VIP</td>\n",
       "    </tr>\n",
       "    <tr>\n",
       "      <th>...</th>\n",
       "      <td>...</td>\n",
       "      <td>...</td>\n",
       "      <td>...</td>\n",
       "      <td>...</td>\n",
       "      <td>...</td>\n",
       "      <td>...</td>\n",
       "      <td>...</td>\n",
       "      <td>...</td>\n",
       "    </tr>\n",
       "    <tr>\n",
       "      <th>19995</th>\n",
       "      <td>TXN19996</td>\n",
       "      <td>bdf36000-aa50-400f-8de1-5f8b7dbf8eb3</td>\n",
       "      <td>Withdrawal</td>\n",
       "      <td>813.98</td>\n",
       "      <td>2025-02-18</td>\n",
       "      <td>Nasr City</td>\n",
       "      <td>Cairo</td>\n",
       "      <td>New</td>\n",
       "    </tr>\n",
       "    <tr>\n",
       "      <th>19996</th>\n",
       "      <td>TXN19997</td>\n",
       "      <td>635e9ea5-4191-40f1-864d-389247e73296</td>\n",
       "      <td>Purchase</td>\n",
       "      <td>8770.25</td>\n",
       "      <td>2025-02-18</td>\n",
       "      <td>Zamalek</td>\n",
       "      <td>Cairo</td>\n",
       "      <td>Regular</td>\n",
       "    </tr>\n",
       "    <tr>\n",
       "      <th>19997</th>\n",
       "      <td>TXN19998</td>\n",
       "      <td>043b348e-51d6-4a8d-a361-54c0eecd9827</td>\n",
       "      <td>Withdrawal</td>\n",
       "      <td>3554.89</td>\n",
       "      <td>2024-09-03</td>\n",
       "      <td>Heliopolis</td>\n",
       "      <td>Alexandria</td>\n",
       "      <td>VIP</td>\n",
       "    </tr>\n",
       "    <tr>\n",
       "      <th>19998</th>\n",
       "      <td>TXN19999</td>\n",
       "      <td>8aab1eb9-a18a-4717-b2b2-bc6aaae9763a</td>\n",
       "      <td>Deposit</td>\n",
       "      <td>5360.05</td>\n",
       "      <td>2024-08-28</td>\n",
       "      <td>Nasr City</td>\n",
       "      <td>Alexandria</td>\n",
       "      <td>VIP</td>\n",
       "    </tr>\n",
       "    <tr>\n",
       "      <th>19999</th>\n",
       "      <td>TXN20000</td>\n",
       "      <td>b704552a-5deb-4356-81ad-7c3b3e9b058e</td>\n",
       "      <td>Withdrawal</td>\n",
       "      <td>6929.17</td>\n",
       "      <td>2025-07-11</td>\n",
       "      <td>Nasr City</td>\n",
       "      <td>Alexandria</td>\n",
       "      <td>New</td>\n",
       "    </tr>\n",
       "  </tbody>\n",
       "</table>\n",
       "<p>20000 rows × 8 columns</p>\n",
       "</div>"
      ],
      "text/plain": [
       "      TransactionID                            CustomerID TransactionType  \\\n",
       "0          TXN00001  bdd640fb-0667-4ad1-9c80-317fa3b1799d      Withdrawal   \n",
       "1          TXN00002  bc8960a9-23b8-41e9-b924-56de3eb13b90         Deposit   \n",
       "2          TXN00003  8b9d2434-e465-4150-bd9c-66b3ad3c2d6d      Withdrawal   \n",
       "3          TXN00004  07a0ca6e-0822-48f3-ac03-1199972a8469      Withdrawal   \n",
       "4          TXN00005  9a1de644-815e-46d1-bb8f-aa1837f8a88b        Purchase   \n",
       "...             ...                                   ...             ...   \n",
       "19995      TXN19996  bdf36000-aa50-400f-8de1-5f8b7dbf8eb3      Withdrawal   \n",
       "19996      TXN19997  635e9ea5-4191-40f1-864d-389247e73296        Purchase   \n",
       "19997      TXN19998  043b348e-51d6-4a8d-a361-54c0eecd9827      Withdrawal   \n",
       "19998      TXN19999  8aab1eb9-a18a-4717-b2b2-bc6aaae9763a         Deposit   \n",
       "19999      TXN20000  b704552a-5deb-4356-81ad-7c3b3e9b058e      Withdrawal   \n",
       "\n",
       "        Amount        Date      Branch      Region CustomerSegment  \n",
       "0      9814.32  2024-11-08  Heliopolis      Assiut             VIP  \n",
       "1      2179.05  2024-09-02   New Cairo  Alexandria         Regular  \n",
       "2      6391.30  2024-08-27   Nasr City      Assiut             New  \n",
       "3      2093.93  2024-08-30       Maadi        Giza             VIP  \n",
       "4      3424.31  2024-08-04     Zamalek        Giza             VIP  \n",
       "...        ...         ...         ...         ...             ...  \n",
       "19995   813.98  2025-02-18   Nasr City       Cairo             New  \n",
       "19996  8770.25  2025-02-18     Zamalek       Cairo         Regular  \n",
       "19997  3554.89  2024-09-03  Heliopolis  Alexandria             VIP  \n",
       "19998  5360.05  2024-08-28   Nasr City  Alexandria             VIP  \n",
       "19999  6929.17  2025-07-11   Nasr City  Alexandria             New  \n",
       "\n",
       "[20000 rows x 8 columns]"
      ]
     },
     "execution_count": 9,
     "metadata": {},
     "output_type": "execute_result"
    }
   ],
   "source": [
    "df"
   ]
  },
  {
   "cell_type": "code",
   "execution_count": 11,
   "id": "44a9b38e-911e-427e-a78b-533019266ffd",
   "metadata": {},
   "outputs": [
    {
     "name": "stdout",
     "output_type": "stream",
     "text": [
      "<class 'pandas.core.frame.DataFrame'>\n",
      "RangeIndex: 20000 entries, 0 to 19999\n",
      "Data columns (total 8 columns):\n",
      " #   Column           Non-Null Count  Dtype  \n",
      "---  ------           --------------  -----  \n",
      " 0   TransactionID    20000 non-null  object \n",
      " 1   CustomerID       20000 non-null  object \n",
      " 2   TransactionType  20000 non-null  object \n",
      " 3   Amount           20000 non-null  float64\n",
      " 4   Date             20000 non-null  object \n",
      " 5   Branch           20000 non-null  object \n",
      " 6   Region           20000 non-null  object \n",
      " 7   CustomerSegment  20000 non-null  object \n",
      "dtypes: float64(1), object(7)\n",
      "memory usage: 1.2+ MB\n"
     ]
    }
   ],
   "source": [
    "df.info()"
   ]
  },
  {
   "cell_type": "code",
   "execution_count": 13,
   "id": "8b90cc07-c160-4c7f-a209-18a56fc6ad45",
   "metadata": {},
   "outputs": [
    {
     "name": "stdout",
     "output_type": "stream",
     "text": [
      "Index(['TransactionID', 'CustomerID', 'TransactionType', 'Amount', 'Date',\n",
      "       'Branch', 'Region', 'CustomerSegment'],\n",
      "      dtype='object')\n"
     ]
    }
   ],
   "source": [
    "print (df.columns)"
   ]
  },
  {
   "cell_type": "code",
   "execution_count": 13,
   "id": "f6ca670d-6136-4ef8-b733-adffe1f9e603",
   "metadata": {},
   "outputs": [
    {
     "name": "stdout",
     "output_type": "stream",
     "text": [
      "(20000, 8)\n"
     ]
    }
   ],
   "source": [
    "print (df.shape)"
   ]
  },
  {
   "cell_type": "code",
   "execution_count": 19,
   "id": "b167594d-4b99-4498-a479-9eefeda90873",
   "metadata": {},
   "outputs": [
    {
     "name": "stdout",
     "output_type": "stream",
     "text": [
      "Dataset  contains 20000 rows and 8 columns\n"
     ]
    }
   ],
   "source": [
    "print (f\"Dataset  contains {df.shape[0]} rows and {df.shape[1]} columns\")"
   ]
  },
  {
   "cell_type": "code",
   "execution_count": 15,
   "id": "54653a04-9074-4402-9238-dcd475363abb",
   "metadata": {},
   "outputs": [
    {
     "data": {
      "text/html": [
       "<div>\n",
       "<style scoped>\n",
       "    .dataframe tbody tr th:only-of-type {\n",
       "        vertical-align: middle;\n",
       "    }\n",
       "\n",
       "    .dataframe tbody tr th {\n",
       "        vertical-align: top;\n",
       "    }\n",
       "\n",
       "    .dataframe thead th {\n",
       "        text-align: right;\n",
       "    }\n",
       "</style>\n",
       "<table border=\"1\" class=\"dataframe\">\n",
       "  <thead>\n",
       "    <tr style=\"text-align: right;\">\n",
       "      <th></th>\n",
       "      <th>Amount</th>\n",
       "    </tr>\n",
       "  </thead>\n",
       "  <tbody>\n",
       "    <tr>\n",
       "      <th>count</th>\n",
       "      <td>20000.000000</td>\n",
       "    </tr>\n",
       "    <tr>\n",
       "      <th>mean</th>\n",
       "      <td>5023.682985</td>\n",
       "    </tr>\n",
       "    <tr>\n",
       "      <th>std</th>\n",
       "      <td>2862.509206</td>\n",
       "    </tr>\n",
       "    <tr>\n",
       "      <th>min</th>\n",
       "      <td>50.040000</td>\n",
       "    </tr>\n",
       "    <tr>\n",
       "      <th>25%</th>\n",
       "      <td>2547.275000</td>\n",
       "    </tr>\n",
       "    <tr>\n",
       "      <th>50%</th>\n",
       "      <td>5031.730000</td>\n",
       "    </tr>\n",
       "    <tr>\n",
       "      <th>75%</th>\n",
       "      <td>7494.372500</td>\n",
       "    </tr>\n",
       "    <tr>\n",
       "      <th>max</th>\n",
       "      <td>9998.160000</td>\n",
       "    </tr>\n",
       "  </tbody>\n",
       "</table>\n",
       "</div>"
      ],
      "text/plain": [
       "             Amount\n",
       "count  20000.000000\n",
       "mean    5023.682985\n",
       "std     2862.509206\n",
       "min       50.040000\n",
       "25%     2547.275000\n",
       "50%     5031.730000\n",
       "75%     7494.372500\n",
       "max     9998.160000"
      ]
     },
     "execution_count": 15,
     "metadata": {},
     "output_type": "execute_result"
    }
   ],
   "source": [
    "df.describe()"
   ]
  },
  {
   "cell_type": "code",
   "execution_count": 25,
   "id": "6f686ed0-6b50-48db-96a0-d5b18972064e",
   "metadata": {},
   "outputs": [
    {
     "name": "stdout",
     "output_type": "stream",
     "text": [
      "TransactionID      0\n",
      "CustomerID         0\n",
      "TransactionType    0\n",
      "Amount             0\n",
      "Date               0\n",
      "Branch             0\n",
      "Region             0\n",
      "CustomerSegment    0\n",
      "dtype: int64\n"
     ]
    }
   ],
   "source": [
    "print (df.isnull().sum())"
   ]
  },
  {
   "cell_type": "code",
   "execution_count": 17,
   "id": "69952120-b1ea-4d4c-ae29-6f5ac867460e",
   "metadata": {},
   "outputs": [
    {
     "name": "stdout",
     "output_type": "stream",
     "text": [
      "0        False\n",
      "1        False\n",
      "2        False\n",
      "3        False\n",
      "4        False\n",
      "         ...  \n",
      "19995    False\n",
      "19996    False\n",
      "19997    False\n",
      "19998    False\n",
      "19999    False\n",
      "Length: 20000, dtype: bool\n"
     ]
    }
   ],
   "source": [
    "print (df.duplicated())"
   ]
  },
  {
   "cell_type": "code",
   "execution_count": 19,
   "id": "e8242a13-c99e-4e07-87a9-206ec5393d15",
   "metadata": {},
   "outputs": [
    {
     "name": "stdout",
     "output_type": "stream",
     "text": [
      "0\n"
     ]
    }
   ],
   "source": [
    "print (df.duplicated().sum())"
   ]
  },
  {
   "cell_type": "code",
   "execution_count": 23,
   "id": "dd9b37e3-d7cf-4494-bf20-b2dbf5996521",
   "metadata": {},
   "outputs": [],
   "source": [
    "df['Date']=pd.to_datetime(df['Date'])"
   ]
  },
  {
   "cell_type": "code",
   "execution_count": 27,
   "id": "c08c4059-6f90-4bf8-97d2-63aab4c6380e",
   "metadata": {},
   "outputs": [
    {
     "name": "stdout",
     "output_type": "stream",
     "text": [
      "<class 'pandas.core.frame.DataFrame'>\n",
      "RangeIndex: 20000 entries, 0 to 19999\n",
      "Data columns (total 8 columns):\n",
      " #   Column           Non-Null Count  Dtype         \n",
      "---  ------           --------------  -----         \n",
      " 0   TransactionID    20000 non-null  object        \n",
      " 1   CustomerID       20000 non-null  object        \n",
      " 2   TransactionType  20000 non-null  object        \n",
      " 3   Amount           20000 non-null  float64       \n",
      " 4   Date             20000 non-null  datetime64[ns]\n",
      " 5   Branch           20000 non-null  object        \n",
      " 6   Region           20000 non-null  object        \n",
      " 7   CustomerSegment  20000 non-null  object        \n",
      "dtypes: datetime64[ns](1), float64(1), object(6)\n",
      "memory usage: 1.2+ MB\n"
     ]
    }
   ],
   "source": [
    "df.info()"
   ]
  },
  {
   "cell_type": "code",
   "execution_count": 29,
   "id": "fe4a9d8d-877a-4a72-8dcc-5f9e752e16a3",
   "metadata": {},
   "outputs": [
    {
     "name": "stdout",
     "output_type": "stream",
     "text": [
      "TransactionID              object\n",
      "CustomerID                 object\n",
      "TransactionType            object\n",
      "Amount                    float64\n",
      "Date               datetime64[ns]\n",
      "Branch                     object\n",
      "Region                     object\n",
      "CustomerSegment            object\n",
      "dtype: object\n"
     ]
    }
   ],
   "source": [
    "print (df.dtypes)"
   ]
  },
  {
   "cell_type": "code",
   "execution_count": 35,
   "id": "c8877d4e-4fb8-4320-ad1c-0416de5f4a22",
   "metadata": {},
   "outputs": [],
   "source": [
    "df.to_csv('financial_transactions_1.csv')"
   ]
  },
  {
   "cell_type": "code",
   "execution_count": null,
   "id": "9d6b75cb-8b12-40d4-87e4-64a1356a1705",
   "metadata": {},
   "outputs": [],
   "source": []
  }
 ],
 "metadata": {
  "kernelspec": {
   "display_name": "Python [conda env:base] *",
   "language": "python",
   "name": "conda-base-py"
  },
  "language_info": {
   "codemirror_mode": {
    "name": "ipython",
    "version": 3
   },
   "file_extension": ".py",
   "mimetype": "text/x-python",
   "name": "python",
   "nbconvert_exporter": "python",
   "pygments_lexer": "ipython3",
   "version": "3.12.7"
  }
 },
 "nbformat": 4,
 "nbformat_minor": 5
}
